{
 "cells": [
  {
   "cell_type": "code",
   "execution_count": 0,
   "metadata": {
    "application/vnd.databricks.v1+cell": {
     "cellMetadata": {
      "byteLimit": 2048000,
      "rowLimit": 10000
     },
     "inputWidgets": {},
     "nuid": "0824e28f-135c-426f-a689-1fd5050af601",
     "showTitle": false,
     "title": ""
    }
   },
   "outputs": [],
   "source": [
    "%run \"./Loader_Factory\""
   ]
  },
  {
   "cell_type": "code",
   "execution_count": 0,
   "metadata": {
    "application/vnd.databricks.v1+cell": {
     "cellMetadata": {
      "byteLimit": 2048000,
      "rowLimit": 10000
     },
     "inputWidgets": {},
     "nuid": "6f99b010-bcdd-47b6-b0e3-11901b646796",
     "showTitle": false,
     "title": ""
    }
   },
   "outputs": [],
   "source": [
    "class AbstractLoader():\n",
    "    def __init__(self,transformedDFs):\n",
    "        self.transformedDFs = transformedDFs\n",
    "        \n",
    "    def sink(self):\n",
    "        pass"
   ]
  },
  {
   "cell_type": "code",
   "execution_count": 0,
   "metadata": {
    "application/vnd.databricks.v1+cell": {
     "cellMetadata": {
      "byteLimit": 2048000,
      "rowLimit": 10000
     },
     "inputWidgets": {},
     "nuid": "aa64f965-eff2-4205-bd4b-44c209a4ee28",
     "showTitle": false,
     "title": ""
    }
   },
   "outputs": [],
   "source": [
    "from typing import Dict\n",
    "from pyspark.sql import DataFrame\n",
    "\n",
    "class BronzeToSilver(AbstractLoader):\n",
    "    \"\"\"\n",
    "    Concrete implementation of the AbstractLoader class, responsible for \n",
    "    loading transformed DataFrames from the 'Bronze' layer to the 'Silver' \n",
    "    layer in Delta format. It writes the data to a specified path using \n",
    "    the 'overwrite' method.\n",
    "    \"\"\"\n",
    "\n",
    "    def sink(self) -> None:\n",
    "        \"\"\"\n",
    "        Loads the transformed DataFrames into the Silver layer as Delta tables.\n",
    "        It iterates through each DataFrame in the `transformedDFs` dictionary \n",
    "        and writes it to a Delta path with the 'overwrite' method.\n",
    "        \n",
    "        Parameters:\n",
    "        None\n",
    "        \n",
    "        Returns:\n",
    "        None\n",
    "        \"\"\"\n",
    "        \n",
    "        # Iterate over the transformed DataFrames and their keys (table names)\n",
    "        for k, _ in self.transformedDFs.items():\n",
    "            # Get the DataFrame and write it as a Delta table to the Silver layer\n",
    "            get_data_sink(\n",
    "                sink_type=\"delta\",                               # Specify sink type as 'delta'\n",
    "                df=self.transformedDFs.get(k),                   # Get the DataFrame from the dictionary\n",
    "                path=f\"/mnt/silver/transformed/{k}/\",            # Define the file path for Silver layer\n",
    "                method=\"overwrite\",                              # Use 'overwrite' method to write data\n",
    "            ).load_data_frame()                                  # Load the DataFrame into the sink\n"
   ]
  },
  {
   "cell_type": "code",
   "execution_count": 0,
   "metadata": {
    "application/vnd.databricks.v1+cell": {
     "cellMetadata": {
      "byteLimit": 2048000,
      "rowLimit": 10000
     },
     "inputWidgets": {},
     "nuid": "5ece31eb-878f-419d-9804-fa7121a519e7",
     "showTitle": false,
     "title": ""
    }
   },
   "outputs": [],
   "source": [
    "class SilverToGold(AbstractLoader):\n",
    "    \"\"\"\n",
    "    Concrete implementation of the AbstractLoader class, responsible for \n",
    "    loading transformed DataFrames from the 'Silver' layer to the 'Gold' \n",
    "    layer in Delta format. It writes the data to a specified path using \n",
    "    the 'overwrite' method.\n",
    "    \"\"\"\n",
    "\n",
    "    def sink(self) -> None:\n",
    "        \"\"\"\n",
    "        Loads the transformed DataFrames into the Gold layer as Delta tables.\n",
    "        It iterates through each DataFrame in the `transformedDFs` dictionary \n",
    "        and writes it to a Delta path in the Gold layer using the 'overwrite' method.\n",
    "        \n",
    "        Parameters:\n",
    "        None\n",
    "        \n",
    "        Returns:\n",
    "        None\n",
    "        \"\"\"\n",
    "        \n",
    "        # Iterate over the transformed DataFrames and their keys (table names)\n",
    "        for k, _ in self.transformedDFs.items():\n",
    "            # Get the DataFrame and write it as a Delta table to the Gold layer\n",
    "            get_data_sink(\n",
    "                sink_type=\"parquet\",                               # Specify sink type as 'parquet'\n",
    "                df=self.transformedDFs.get(k),                   # Get the DataFrame from the dictionary\n",
    "                path=f\"/mnt/gold/transformed/{k}/\",              # Define the file path for Gold layer\n",
    "                method=\"overwrite\",                              # Use 'overwrite' method to write data\n",
    "            ).load_data_frame()                                  # Load the DataFrame into the sink\n"
   ]
  }
 ],
 "metadata": {
  "application/vnd.databricks.v1+notebook": {
   "dashboards": [],
   "environmentMetadata": null,
   "language": "python",
   "notebookMetadata": {
    "pythonIndentUnit": 4
   },
   "notebookName": "Loader",
   "widgets": {}
  }
 },
 "nbformat": 4,
 "nbformat_minor": 0
}
