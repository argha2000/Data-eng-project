{
 "cells": [
  {
   "cell_type": "code",
   "execution_count": 0,
   "metadata": {
    "application/vnd.databricks.v1+cell": {
     "cellMetadata": {
      "byteLimit": 2048000,
      "rowLimit": 10000
     },
     "inputWidgets": {},
     "nuid": "645602f7-4454-430c-83ee-6d5559af2a2e",
     "showTitle": false,
     "title": ""
    }
   },
   "outputs": [
    {
     "name": "stdout",
     "output_type": "stream",
     "text": [
      "/mnt/bronze has been unmounted.\n",
      "/mnt/silver has been unmounted.\n",
      "/mnt/gold has been unmounted.\n"
     ]
    },
    {
     "data": {
      "text/plain": [
       "True"
      ]
     },
     "execution_count": 1,
     "metadata": {},
     "output_type": "execute_result"
    }
   ],
   "source": [
    "dbutils.fs.unmount( mount_point = \"/mnt/bronze\")\n",
    "dbutils.fs.unmount(mount_point = \"/mnt/silver\")\n",
    "dbutils.fs.unmount(mount_point = \"/mnt/gold\")"
   ]
  },
  {
   "cell_type": "code",
   "execution_count": 0,
   "metadata": {
    "application/vnd.databricks.v1+cell": {
     "cellMetadata": {
      "byteLimit": 2048000,
      "rowLimit": 10000
     },
     "inputWidgets": {},
     "nuid": "b807371e-3815-4d74-8c32-b64c43de6a73",
     "showTitle": false,
     "title": ""
    }
   },
   "outputs": [
    {
     "name": "stdout",
     "output_type": "stream",
     "text": [
      "mounts succeeded!\n"
     ]
    }
   ],
   "source": [
    "# mounting bronze layer\n",
    "# sasToken=\"sp=rl&st=2024-08-21T15:26:23Z&se=2024-08-31T23:26:23Z&spr=https&sv=2022-11-02&sr=c&sig=3TrYTZU0BXgFsM4eyP8amDl3RWrY4lPnDXGmO9Sa3Lg%3D\"\n",
    "# dbutils.fs.mount(source = \"abfss://bronze-raw@dataengstorage2.dfs.core.windows.net\", mount_point = \"/mnt/bronze\",extra_configs = {'fs.azure.account.auth.type':'SAS', 'fs.azure.sas.token.provider.type': 'org.apache.hadoop.fs.azurebfs.sas.FixedSASTokenProvider','fs.azure.sas.fixed.token': sasToken})\n",
    "\n",
    "#code from :https://techcommunity.microsoft.com/t5/azure-paas-blog/mount-adls-gen2-or-blob-storage-in-azure-databricks/ba-p/3802926\n",
    "storageAccountName = \"dataengstorage2\"\n",
    "storageAccountAccessKey = \"PLACE ACCESS KEY HERE\"\n",
    "blobContainerName1 = \"bronze-raw\"\n",
    "blobContainerName2 = \"silver-transformed\"\n",
    "blobContainerName3 = \"gold-businessready\"\n",
    "\n",
    "mountPoint1 = \"/mnt/bronze/\"\n",
    "mountPoint2 = \"/mnt/silver/\"\n",
    "mountPoint3 = \"/mnt/gold/\"\n",
    "\n",
    "# if not any(mount.mountPoint == mountPoint for mount in dbutils.fs.mounts()):\n",
    "try:\n",
    "    dbutils.fs.mount(\n",
    "      source = f\"wasbs://{blobContainerName1}@{storageAccountName}.blob.core.windows.net\",\n",
    "      mount_point = mountPoint1,\n",
    "      extra_configs = {'fs.azure.account.key.' + storageAccountName + '.blob.core.windows.net': storageAccountAccessKey}\n",
    "    )\n",
    "    dbutils.fs.mount(\n",
    "      source = f\"wasbs://{blobContainerName2}@{storageAccountName}.blob.core.windows.net\",\n",
    "      mount_point = mountPoint2,\n",
    "      extra_configs = {'fs.azure.account.key.' + storageAccountName + '.blob.core.windows.net': storageAccountAccessKey}\n",
    "    )\n",
    "    dbutils.fs.mount(\n",
    "      source = f\"wasbs://{blobContainerName3}@{storageAccountName}.blob.core.windows.net\",\n",
    "      mount_point = mountPoint3,\n",
    "      extra_configs = {'fs.azure.account.key.' + storageAccountName + '.blob.core.windows.net': storageAccountAccessKey}\n",
    "    )\n",
    "    print(\"mounts succeeded!\")\n",
    "except Exception as e:\n",
    "    print(\"mounts exception\", e)\n",
    "\n",
    "\n",
    "\n"
   ]
  },
  {
   "cell_type": "code",
   "execution_count": 0,
   "metadata": {
    "application/vnd.databricks.v1+cell": {
     "cellMetadata": {
      "byteLimit": 2048000,
      "rowLimit": 10000
     },
     "inputWidgets": {},
     "nuid": "9b83844a-426b-4a42-8c32-3241251bed47",
     "showTitle": false,
     "title": ""
    }
   },
   "outputs": [
    {
     "data": {
      "text/plain": [
       "[FileInfo(path='dbfs:/mnt/bronze/sales/', name='sales/', size=0, modificationTime=1724253743000)]"
      ]
     },
     "execution_count": 16,
     "metadata": {},
     "output_type": "execute_result"
    }
   ],
   "source": [
    "dbutils.fs.ls(\"/mnt/bronze/\")"
   ]
  },
  {
   "cell_type": "code",
   "execution_count": 0,
   "metadata": {
    "application/vnd.databricks.v1+cell": {
     "cellMetadata": {
      "byteLimit": 2048000,
      "rowLimit": 10000
     },
     "inputWidgets": {},
     "nuid": "4b44418c-d0d1-42f2-9f8a-e7f49fa55119",
     "showTitle": false,
     "title": ""
    }
   },
   "outputs": [
    {
     "data": {
      "text/plain": [
       "[FileInfo(path='dbfs:/mnt/silver/transformed/', name='transformed/', size=0, modificationTime=0)]"
      ]
     },
     "execution_count": 2,
     "metadata": {},
     "output_type": "execute_result"
    }
   ],
   "source": [
    "\n",
    "dbutils.fs.ls(\"/mnt/silver/\")\n",
    "\n"
   ]
  },
  {
   "cell_type": "code",
   "execution_count": 0,
   "metadata": {
    "application/vnd.databricks.v1+cell": {
     "cellMetadata": {
      "byteLimit": 2048000,
      "rowLimit": 10000
     },
     "inputWidgets": {},
     "nuid": "6e7726ef-978e-47a4-b3a7-7be26df410cd",
     "showTitle": false,
     "title": ""
    }
   },
   "outputs": [
    {
     "data": {
      "text/plain": [
       "[FileInfo(path='dbfs:/mnt/gold/hello/', name='hello/', size=0, modificationTime=0)]"
      ]
     },
     "execution_count": 1,
     "metadata": {},
     "output_type": "execute_result"
    }
   ],
   "source": [
    "# mounting gold layer\n",
    "\n",
    "dbutils.fs.ls(\"/mnt/gold/\")"
   ]
  }
 ],
 "metadata": {
  "application/vnd.databricks.v1+notebook": {
   "dashboards": [],
   "environmentMetadata": null,
   "language": "python",
   "notebookMetadata": {
    "pythonIndentUnit": 4
   },
   "notebookName": "Mounting Containers",
   "widgets": {}
  },
  "language_info": {
   "name": "python"
  }
 },
 "nbformat": 4,
 "nbformat_minor": 0
}
